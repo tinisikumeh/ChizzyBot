{
 "cells": [
  {
   "cell_type": "code",
   "execution_count": 12,
   "id": "37001341",
   "metadata": {},
   "outputs": [],
   "source": [
    "import sqlite3\n",
    "import pandas as pd"
   ]
  },
  {
   "cell_type": "code",
   "execution_count": 13,
   "id": "cf575edc",
   "metadata": {},
   "outputs": [
    {
     "name": "stdout",
     "output_type": "stream",
     "text": [
      "100000 rows comleted so far\n",
      "200000 rows comleted so far\n",
      "300000 rows comleted so far\n"
     ]
    }
   ],
   "source": [
    "timeframes = ['2015-01']\n",
    "\n",
    "def open_file(file_name, category, dataframe):\n",
    "     with open(\"{}\".format(file_name), 'a', encoding = 'utf-8') as f:\n",
    "                for content in dataframe['{}'.format(category)].values:\n",
    "                    f.write(str(content) + '\\n') \n",
    "    \n",
    "\n",
    "for timeframe in timeframes:\n",
    "    connection = sqlite3.connect('{}.db'.format(timeframe))\n",
    "    c = connection.cursor()\n",
    "    limit = 5000 #how much we put into our pandas data frame, 5000 rows of data\n",
    "    last_unix = 0 #stores our last timestamp; used make it so our curr unix is greater than our last\n",
    "    cur_length = limit\n",
    "    counter = 0\n",
    "    test_done = False\n",
    "    while cur_length == limit:#means that theres needs to be 0 rows left before we enter\n",
    "        #pulling sql data in pandas dataframe\n",
    "        df = pd.read_sql(\"SELECT * FROM parent_reply WHERE unix > {} and parent NOT NULL and score > 0 ORDER BY unix ASC LIMIT {}\".format(last_unix,limit),connection)\n",
    "        last_unix = df.tail(1)['unix'].values[0]\n",
    "        cur_length = len(df)\n",
    "        if not test_done:\n",
    "            open_file(\"test.from\", 'parent', df)\n",
    "            open_file(\"test.to\", 'comment', df)\n",
    "            #open returns a file object\n",
    "             \n",
    "            test_done = True\n",
    "        else : \n",
    "            open_file(\"train.from\", 'parent', df)\n",
    "            open_file(\"train.to\", 'comment', df)\n",
    "        \n",
    "        counter += 1\n",
    "        if counter % 20 == 0:\n",
    "            print(counter * limit, 'rows comleted so far')\n",
    "\n",
    "\n",
    "\n",
    "\n",
    "            \n",
    "\n",
    "\n",
    "\n"
   ]
  },
  {
   "cell_type": "code",
   "execution_count": null,
   "id": "b96a5f2f-7878-411b-bb24-68ea1c6aa267",
   "metadata": {},
   "outputs": [],
   "source": []
  },
  {
   "cell_type": "code",
   "execution_count": null,
   "id": "6a861bde-dbda-478f-bbab-4885c998f806",
   "metadata": {},
   "outputs": [],
   "source": []
  }
 ],
 "metadata": {
  "kernelspec": {
   "display_name": "Python 3 (ipykernel)",
   "language": "python",
   "name": "python3"
  },
  "language_info": {
   "codemirror_mode": {
    "name": "ipython",
    "version": 3
   },
   "file_extension": ".py",
   "mimetype": "text/x-python",
   "name": "python",
   "nbconvert_exporter": "python",
   "pygments_lexer": "ipython3",
   "version": "3.11.5"
  }
 },
 "nbformat": 4,
 "nbformat_minor": 5
}
